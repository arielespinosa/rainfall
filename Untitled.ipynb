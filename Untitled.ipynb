{
 "cells": [
  {
   "cell_type": "code",
   "execution_count": 161,
   "metadata": {},
   "outputs": [
    {
     "name": "stdout",
     "output_type": "stream",
     "text": [
      "hola\n"
     ]
    },
    {
     "name": "stderr",
     "output_type": "stream",
     "text": [
      "IOPub data rate exceeded.\n",
      "The notebook server will temporarily stop sending output\n",
      "to the client in order to avoid crashing it.\n",
      "To change this limit, set the config variable\n",
      "`--NotebookApp.iopub_data_rate_limit`.\n",
      "\n",
      "Current values:\n",
      "NotebookApp.iopub_data_rate_limit=1000000.0 (bytes/sec)\n",
      "NotebookApp.rate_limit_window=3.0 (secs)\n",
      "\n"
     ]
    }
   ],
   "source": [
    "from processing.observations import*\n",
    "import numpy as np\n",
    "import pandas as pd\n",
    "from datetime import datetime\n",
    "\n",
    "def prepare_observation_data():\n",
    "    #name = [\"Estacion\", \"Año\",\"Mes\" ,\"Dia\" ,\"Hora\", \"RR\"]\n",
    "    observaciones, est = [], [78310]\n",
    "    h = ()\n",
    "    estaciones, days = dict(), dict()\n",
    "    e, y, h, m, i = 0, 0, 0, 0, 0\n",
    "    observations = Observations(\"observaciones.csv\")\n",
    "     \n",
    "    for data_list in observations.Read().values.tolist():       \n",
    "        \n",
    "        if data_list[-1].__str__() != \"nan\":\n",
    "            data = [int(n) for n in data_list]\n",
    "\n",
    "            if i <= 8:\n",
    "                dt = datetime(year=data[1], month=data[2], day=data[3], hour=data[4])        \n",
    "                observaciones.append((dt.time().__str__(), data_list[-1]))\n",
    "                i+=1   \n",
    "                #print(observaciones)\n",
    "                if i == 8:\n",
    "                    obs = dict(observaciones)            \n",
    "                    day = dict({dt.date().__str__():obs})\n",
    "                    days.update(day)\n",
    "                    #print(days)\n",
    "                    i=0\n",
    "\n",
    "            if dt == datetime(year=2017, month=12, day=31, hour=8) :\n",
    "                e = {data[0].__str__():days}\n",
    "                estaciones.update(e)\n",
    "        \n",
    "   \n",
    "    print(estaciones)\n",
    "       \n",
    "prepare_observation_data()       \n",
    "\n"
   ]
  },
  {
   "cell_type": "code",
   "execution_count": null,
   "metadata": {},
   "outputs": [],
   "source": [
    "\n",
    "\"\"\"\n",
    "print(a)\n",
    "\n",
    "c = dict()\n",
    "c.update(a)\n",
    "print(c)\n",
    "\n",
    "q = dict(\"78310\"=c)\n",
    "print(q)\n",
    "        \n",
    "\n",
    "if e == data[0]:           \n",
    "if m == data[2]:\n",
    "if d == data[3]:\n",
    "observaciones.append((dt.time().__str__(), data_list[-1])) \n",
    "#print(d)\n",
    "else:\n",
    "h1 = dict(observaciones)\n",
    "observaciones = []\n",
    "else:\n",
    "print(h1)\n",
    "break\n",
    "#m1 = dict(dt.date()=h1)\n",
    "else:\n",
    "pass\n",
    "#y1 = dict(e=m1)\n",
    "\"\"\""
   ]
  },
  {
   "cell_type": "code",
   "execution_count": 52,
   "metadata": {},
   "outputs": [
    {
     "ename": "SyntaxError",
     "evalue": "keyword can't be an expression (<ipython-input-52-9521a0f749f6>, line 33)",
     "output_type": "error",
     "traceback": [
      "\u001b[0;36m  File \u001b[0;32m\"<ipython-input-52-9521a0f749f6>\"\u001b[0;36m, line \u001b[0;32m33\u001b[0m\n\u001b[0;31m    q = dict(\"78310\"=c)\u001b[0m\n\u001b[0m            ^\u001b[0m\n\u001b[0;31mSyntaxError\u001b[0m\u001b[0;31m:\u001b[0m keyword can't be an expression\n"
     ]
    }
   ],
   "source": [
    "\"\"\"\n",
    "estacion = {\n",
    "    1:{\n",
    "       2021-1-1:{\n",
    "                    \"01:00:00\" : 0.7,\n",
    "                    \"02:00:00\" : 0.7,\n",
    "                    \"03:00:00\" : 0.7,\n",
    "                    }\n",
    "    },\n",
    "    2:{\n",
    "        2021-1-1:{\n",
    "                    \"01:00:00\" : 0.7,\n",
    "                    \"02:00:00\" : 0.7,\n",
    "                    \"03:00:00\" : 0.7,\n",
    "                    }\n",
    "      \n",
    "      }\n",
    " }\n",
    "\n",
    "print(estacion[1][2021-1-1])\n",
    "\"\"\"\n",
    "\n",
    "a = {\"01:00:00\":7, \"02:00:00\":7, \"03:00:00\":7}\n",
    "b = {\"04:00:00\":9}\n",
    "\n",
    "a.update(b)\n",
    "print(a)\n",
    "\n",
    "c = dict()\n",
    "c.update(a)\n",
    "print(c)\n",
    "\n"
   ]
  },
  {
   "cell_type": "code",
   "execution_count": null,
   "metadata": {},
   "outputs": [],
   "source": []
  },
  {
   "cell_type": "code",
   "execution_count": null,
   "metadata": {},
   "outputs": [],
   "source": []
  }
 ],
 "metadata": {
  "kernelspec": {
   "display_name": "Python 3",
   "language": "python",
   "name": "python3"
  },
  "language_info": {
   "codemirror_mode": {
    "name": "ipython",
    "version": 3
   },
   "file_extension": ".py",
   "mimetype": "text/x-python",
   "name": "python",
   "nbconvert_exporter": "python",
   "pygments_lexer": "ipython3",
   "version": "3.5.2"
  }
 },
 "nbformat": 4,
 "nbformat_minor": 2
}
